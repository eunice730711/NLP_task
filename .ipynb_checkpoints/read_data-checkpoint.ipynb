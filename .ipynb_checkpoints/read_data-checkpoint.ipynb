{
 "cells": [
  {
   "cell_type": "code",
   "execution_count": 49,
   "metadata": {
    "collapsed": false
   },
   "outputs": [
    {
     "name": "stdout",
     "output_type": "stream",
     "text": [
      "中国商代最后一个君王是谁?\n",
      "商朝最后一个皇帝是商纣王，他因为宠幸苏妲己而亡国\n",
      "多瑙河注入哪个海？\n",
      "多瑙河莱茵河都发源于阿尔卑斯山，莱茵河注入大西洋的北海，多瑙河注入黑海！\n",
      "在慢性炎症组织中，哪种细胞最多见：\n",
      "你是指的血常规检查中的细胞吗？一般慢性感染以及病毒性的感染时，淋巴细胞比率会增高\n",
      "“安南”是现在哪个国家？\n",
      "安南，在越南境内\n"
     ]
    }
   ],
   "source": [
    "import json\n",
    "\n",
    "data = []\n",
    "k = []\n",
    "with open('./data/testing.json') as f:\n",
    "    for line in f:\n",
    "        tmp = json.loads(line)\n",
    "        \n",
    "        k = tmp[u'question_tokens']\n",
    "        str1 = ''.join(k)\n",
    "        print(str1)\n",
    "        \n",
    "        k = tmp[u'evidences'][0][u'evidence_tokens']\n",
    "        str2 = ''.join(k)\n",
    "        print(str2)\n",
    "        \n",
    "        k = tmp[u'evidences'][0][u'golden_answers']\n",
    "\n",
    "        \n",
    "        data.append(str1)\n",
    "        data.append(str2)\n",
    "\n",
    "# print(data)"
   ]
  },
  {
   "cell_type": "code",
   "execution_count": null,
   "metadata": {
    "collapsed": true
   },
   "outputs": [],
   "source": []
  },
  {
   "cell_type": "code",
   "execution_count": null,
   "metadata": {
    "collapsed": true
   },
   "outputs": [],
   "source": []
  },
  {
   "cell_type": "code",
   "execution_count": null,
   "metadata": {
    "collapsed": true
   },
   "outputs": [],
   "source": []
  }
 ],
 "metadata": {
  "kernelspec": {
   "display_name": "Python 2",
   "language": "python",
   "name": "python2"
  },
  "language_info": {
   "codemirror_mode": {
    "name": "ipython",
    "version": 2
   },
   "file_extension": ".py",
   "mimetype": "text/x-python",
   "name": "python",
   "nbconvert_exporter": "python",
   "pygments_lexer": "ipython2",
   "version": "2.7.13"
  }
 },
 "nbformat": 4,
 "nbformat_minor": 2
}
