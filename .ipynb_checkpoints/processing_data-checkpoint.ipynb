{
 "cells": [
  {
   "cell_type": "code",
   "execution_count": 1,
   "metadata": {
    "collapsed": true
   },
   "outputs": [],
   "source": [
    "# -*- coding: utf-8 -*-\n",
    "import numpy as np\n",
    "import pandas as pd\n",
    "import jieba\n",
    "import logging\n",
    "from gensim.models import word2vec\n",
    "import logging\n",
    "import json\n",
    "from gensim.models.keyedvectors import KeyedVectors"
   ]
  },
  {
   "cell_type": "code",
   "execution_count": 2,
   "metadata": {
    "collapsed": false
   },
   "outputs": [],
   "source": [
    "model = KeyedVectors.load_word2vec_format('./model/wiki.zh.vec',binary=False) # Read Word2Vec Model"
   ]
  },
  {
   "cell_type": "markdown",
   "metadata": {},
   "source": [
    "利用facebook已經pre-training好的fasttext word2vec model讀入"
   ]
  },
  {
   "cell_type": "code",
   "execution_count": 3,
   "metadata": {
    "collapsed": false
   },
   "outputs": [],
   "source": [
    "csv_file = \"./data/sample.csv\"\n",
    "df = pd.read_csv(csv_file,header=None)"
   ]
  },
  {
   "cell_type": "markdown",
   "metadata": {},
   "source": [
    "讀入文字檔"
   ]
  },
  {
   "cell_type": "markdown",
   "metadata": {},
   "source": [
    "# Sentence2Vec"
   ]
  },
  {
   "cell_type": "code",
   "execution_count": 4,
   "metadata": {
    "collapsed": false
   },
   "outputs": [],
   "source": [
    "# Sentence to Vector\n",
    "def makeFeatureVec(words, model, timestep, num_features):\n",
    "    featureVec = np.zeros((timestep,num_features,),dtype=\"float32\")\n",
    "    nwords = 0\n",
    "    index2word_set = set(model.index2word)\n",
    "\n",
    "    # Loop over each word in the review and, if it is in the model's\n",
    "    # vocaublary, add its feature vector to the total\n",
    "    for word in words:\n",
    "        if word in index2word_set:\n",
    "            featureVec[nwords] = np.add(featureVec[nwords],model[word])\n",
    "            nwords = nwords + 1\n",
    "            \n",
    "    return featureVec, nwords"
   ]
  },
  {
   "cell_type": "code",
   "execution_count": 5,
   "metadata": {
    "collapsed": true
   },
   "outputs": [],
   "source": [
    "def getFeatureVecs(reviews, model, timestep, num_features):\n",
    "    # Given a set of sentence (each one a list of words), calculate \n",
    "    # the feature vector for each one and return a 2D numpy array \n",
    "\n",
    "    # Initialize a counter\n",
    "    counter = 0\n",
    "    # Preallocate a 2D numpy array, for speed\n",
    "    reviewFeatureVecs = np.zeros((len(reviews),timestep,num_features),dtype=\"float32\")\n",
    "    \n",
    "    # Loop through the sentence\n",
    "    for review in reviews:\n",
    "\n",
    "        # Print a status message every 1000th review\n",
    "        if counter%1000 == 0:\n",
    "            print(\"Review %d of %d\" % (counter, len(reviews)))\n",
    "\n",
    "        # Call the function that makes average feature vector\n",
    "        feature, nwords = makeFeatureVec(review, model, timestep, num_features)\n",
    "        reviewFeatureVecs[counter] = feature\n",
    "        counter+=1\n",
    "        \n",
    "    return reviewFeatureVecs"
   ]
  },
  {
   "cell_type": "code",
   "execution_count": 6,
   "metadata": {
    "collapsed": false
   },
   "outputs": [
    {
     "name": "stdout",
     "output_type": "stream",
     "text": [
      "Review 0 of 12\n"
     ]
    }
   ],
   "source": [
    "if __name__ == '__main__':\n",
    "    \n",
    "    numpyMatrix = df[0].as_matrix()\n",
    "    text = []\n",
    "    for i in range(len(df)):\n",
    "        text.append(df[0].loc[i])\n",
    "    \n",
    "\n",
    "    text = np.array(text)\n",
    "    texts_num = 0\n",
    "    text_list =[]\n",
    "\n",
    "    for i in range(len(text)):\n",
    "        tmp = []\n",
    "        words = text[i].split()\n",
    "        for word in words:\n",
    "            tmp.append(word.decode('utf-8'))\n",
    "\n",
    "        text_list.append(tmp)\n",
    "        texts_num+=1\n",
    "        \n",
    "    trainDataVecs = getFeatureVecs( text_list, model, 25, 300 )\n",
    "    trainDataVecs = np.array(trainDataVecs)"
   ]
  }
 ],
 "metadata": {
  "kernelspec": {
   "display_name": "Python 2",
   "language": "python",
   "name": "python2"
  },
  "language_info": {
   "codemirror_mode": {
    "name": "ipython",
    "version": 2
   },
   "file_extension": ".py",
   "mimetype": "text/x-python",
   "name": "python",
   "nbconvert_exporter": "python",
   "pygments_lexer": "ipython2",
   "version": "2.7.13"
  }
 },
 "nbformat": 4,
 "nbformat_minor": 2
}
