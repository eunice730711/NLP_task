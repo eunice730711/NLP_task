{
 "cells": [
  {
   "cell_type": "code",
   "execution_count": null,
   "metadata": {
    "collapsed": true
   },
   "outputs": [],
   "source": [
    "# def join_and_insert(tmp, ans, ans_len):\n",
    "#     if ans_len == 0:\n",
    "#         return True\n",
    "    \n"
   ]
  },
  {
   "cell_type": "code",
   "execution_count": 11,
   "metadata": {
    "collapsed": false
   },
   "outputs": [],
   "source": [
    "# -*- coding: utf-8 -*-\n",
    "import json\n",
    "import codecs \n",
    "\n",
    "k = []\n",
    "count = 0\n",
    "data_file = codecs.open(\"combine_name.txt\", \"w\", \"utf-8\")\n",
    "\n",
    "with open('./data/testing.json') as f:\n",
    "    for line in f:\n",
    "        tmp = json.loads(line)\n",
    "        \n",
    "        k = tmp[u'evidences'][0][u'golden_answers'][0]\n",
    "        ans_len = len(k)\n",
    "        ans = ' '.join(k) + '\\n'\n",
    "        if ans == \"no_answer\\n\":\n",
    "            continue\n",
    "        \n",
    "        k = tmp[u'question_tokens']\n",
    "        str1 = ' '.join(k) + '\\n'\n",
    "        txt = unicode(str1.encode('utf-8'), \"utf-8\")\n",
    "        data_file.write(txt)\n",
    "        \n",
    "        k = tmp[u'evidences'][0][u'evidence_tokens']\n",
    "        str1 = ' '.join(k) + '\\n'\n",
    "        txt = unicode(str1.encode('utf-8'), \"utf-8\")\n",
    "        data_file.write(txt)\n",
    "        \n",
    "        # Write answer to file\n",
    "        txt = unicode(ans.encode('utf-8'), \"utf-8\")\n",
    "        data_file.write(txt)\n",
    "        data_file.write(\"\\n\")\n",
    "        \n",
    "        count+=1\n",
    "        if count%1000==0:\n",
    "            print(\"processing: \"+str(count)+\" question\\n\")\n",
    "\n",
    "data_file.close()"
   ]
  },
  {
   "cell_type": "code",
   "execution_count": 8,
   "metadata": {
    "collapsed": false
   },
   "outputs": [],
   "source": []
  }
 ],
 "metadata": {
  "kernelspec": {
   "display_name": "Python 2",
   "language": "python",
   "name": "python2"
  },
  "language_info": {
   "codemirror_mode": {
    "name": "ipython",
    "version": 2
   },
   "file_extension": ".py",
   "mimetype": "text/x-python",
   "name": "python",
   "nbconvert_exporter": "python",
   "pygments_lexer": "ipython2",
   "version": "2.7.13"
  }
 },
 "nbformat": 4,
 "nbformat_minor": 2
}
